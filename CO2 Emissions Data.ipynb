{
 "cells": [
  {
   "cell_type": "markdown",
   "id": "49247a7f",
   "metadata": {},
   "source": [
    "### Importing packages"
   ]
  },
  {
   "cell_type": "code",
   "execution_count": 1,
   "id": "379f3b09",
   "metadata": {},
   "outputs": [],
   "source": [
    "import numpy as np \n",
    "import pandas as pd"
   ]
  },
  {
   "cell_type": "code",
   "execution_count": 2,
   "id": "9019ac92",
   "metadata": {},
   "outputs": [],
   "source": [
    "import pycountry_convert as pc"
   ]
  },
  {
   "cell_type": "code",
   "execution_count": 3,
   "id": "f8882f53",
   "metadata": {},
   "outputs": [],
   "source": [
    "df = pd.read_csv(\"C02 Emissions Data.csv\")"
   ]
  },
  {
   "cell_type": "code",
   "execution_count": 4,
   "id": "89e0daf9",
   "metadata": {},
   "outputs": [
    {
     "data": {
      "text/html": [
       "<div>\n",
       "<style scoped>\n",
       "    .dataframe tbody tr th:only-of-type {\n",
       "        vertical-align: middle;\n",
       "    }\n",
       "\n",
       "    .dataframe tbody tr th {\n",
       "        vertical-align: top;\n",
       "    }\n",
       "\n",
       "    .dataframe thead th {\n",
       "        text-align: right;\n",
       "    }\n",
       "</style>\n",
       "<table border=\"1\" class=\"dataframe\">\n",
       "  <thead>\n",
       "    <tr style=\"text-align: right;\">\n",
       "      <th></th>\n",
       "      <th>Country</th>\n",
       "      <th>ISO 3166-1 alpha-3</th>\n",
       "      <th>Year</th>\n",
       "      <th>Total</th>\n",
       "      <th>Coal</th>\n",
       "      <th>Oil</th>\n",
       "      <th>Gas</th>\n",
       "      <th>Cement</th>\n",
       "      <th>Flaring</th>\n",
       "      <th>Other</th>\n",
       "      <th>Per Capita</th>\n",
       "    </tr>\n",
       "  </thead>\n",
       "  <tbody>\n",
       "    <tr>\n",
       "      <th>0</th>\n",
       "      <td>Afghanistan</td>\n",
       "      <td>AFG</td>\n",
       "      <td>1750</td>\n",
       "      <td>0.0</td>\n",
       "      <td>NaN</td>\n",
       "      <td>NaN</td>\n",
       "      <td>NaN</td>\n",
       "      <td>NaN</td>\n",
       "      <td>NaN</td>\n",
       "      <td>NaN</td>\n",
       "      <td>NaN</td>\n",
       "    </tr>\n",
       "    <tr>\n",
       "      <th>1</th>\n",
       "      <td>Afghanistan</td>\n",
       "      <td>AFG</td>\n",
       "      <td>1751</td>\n",
       "      <td>0.0</td>\n",
       "      <td>NaN</td>\n",
       "      <td>NaN</td>\n",
       "      <td>NaN</td>\n",
       "      <td>NaN</td>\n",
       "      <td>NaN</td>\n",
       "      <td>NaN</td>\n",
       "      <td>NaN</td>\n",
       "    </tr>\n",
       "    <tr>\n",
       "      <th>2</th>\n",
       "      <td>Afghanistan</td>\n",
       "      <td>AFG</td>\n",
       "      <td>1752</td>\n",
       "      <td>0.0</td>\n",
       "      <td>NaN</td>\n",
       "      <td>NaN</td>\n",
       "      <td>NaN</td>\n",
       "      <td>NaN</td>\n",
       "      <td>NaN</td>\n",
       "      <td>NaN</td>\n",
       "      <td>NaN</td>\n",
       "    </tr>\n",
       "    <tr>\n",
       "      <th>3</th>\n",
       "      <td>Afghanistan</td>\n",
       "      <td>AFG</td>\n",
       "      <td>1753</td>\n",
       "      <td>0.0</td>\n",
       "      <td>NaN</td>\n",
       "      <td>NaN</td>\n",
       "      <td>NaN</td>\n",
       "      <td>NaN</td>\n",
       "      <td>NaN</td>\n",
       "      <td>NaN</td>\n",
       "      <td>NaN</td>\n",
       "    </tr>\n",
       "    <tr>\n",
       "      <th>4</th>\n",
       "      <td>Afghanistan</td>\n",
       "      <td>AFG</td>\n",
       "      <td>1754</td>\n",
       "      <td>0.0</td>\n",
       "      <td>NaN</td>\n",
       "      <td>NaN</td>\n",
       "      <td>NaN</td>\n",
       "      <td>NaN</td>\n",
       "      <td>NaN</td>\n",
       "      <td>NaN</td>\n",
       "      <td>NaN</td>\n",
       "    </tr>\n",
       "  </tbody>\n",
       "</table>\n",
       "</div>"
      ],
      "text/plain": [
       "       Country ISO 3166-1 alpha-3  Year  Total  Coal  Oil  Gas  Cement  \\\n",
       "0  Afghanistan                AFG  1750    0.0   NaN  NaN  NaN     NaN   \n",
       "1  Afghanistan                AFG  1751    0.0   NaN  NaN  NaN     NaN   \n",
       "2  Afghanistan                AFG  1752    0.0   NaN  NaN  NaN     NaN   \n",
       "3  Afghanistan                AFG  1753    0.0   NaN  NaN  NaN     NaN   \n",
       "4  Afghanistan                AFG  1754    0.0   NaN  NaN  NaN     NaN   \n",
       "\n",
       "   Flaring  Other  Per Capita  \n",
       "0      NaN    NaN         NaN  \n",
       "1      NaN    NaN         NaN  \n",
       "2      NaN    NaN         NaN  \n",
       "3      NaN    NaN         NaN  \n",
       "4      NaN    NaN         NaN  "
      ]
     },
     "execution_count": 4,
     "metadata": {},
     "output_type": "execute_result"
    }
   ],
   "source": [
    "df.head()"
   ]
  },
  {
   "cell_type": "code",
   "execution_count": 5,
   "id": "212f9073",
   "metadata": {},
   "outputs": [
    {
     "name": "stdout",
     "output_type": "stream",
     "text": [
      "<class 'pandas.core.frame.DataFrame'>\n",
      "RangeIndex: 63104 entries, 0 to 63103\n",
      "Data columns (total 11 columns):\n",
      " #   Column              Non-Null Count  Dtype  \n",
      "---  ------              --------------  -----  \n",
      " 0   Country             63104 non-null  object \n",
      " 1   ISO 3166-1 alpha-3  61472 non-null  object \n",
      " 2   Year                63104 non-null  int64  \n",
      " 3   Total               62904 non-null  float64\n",
      " 4   Coal                21744 non-null  float64\n",
      " 5   Oil                 21717 non-null  float64\n",
      " 6   Gas                 21618 non-null  float64\n",
      " 7   Cement              20814 non-null  float64\n",
      " 8   Flaring             21550 non-null  float64\n",
      " 9   Other               1620 non-null   float64\n",
      " 10  Per Capita          18974 non-null  float64\n",
      "dtypes: float64(8), int64(1), object(2)\n",
      "memory usage: 5.3+ MB\n"
     ]
    }
   ],
   "source": [
    "df.info()"
   ]
  },
  {
   "cell_type": "markdown",
   "id": "fc0a8edf",
   "metadata": {},
   "source": [
    "### Kontinent Variable erstellen"
   ]
  },
  {
   "cell_type": "code",
   "execution_count": 6,
   "id": "6f320165",
   "metadata": {},
   "outputs": [],
   "source": [
    "def country_to_continent(country_name):\n",
    "    country_alpha2 = pc.country_name_to_country_alpha2(country_name)\n",
    "    country_continent_code = pc.country_alpha2_to_continent_code(country_alpha2)\n",
    "    country_continent_name = pc.convert_continent_code_to_continent_name(country_continent_code)\n",
    "    return country_continent_name"
   ]
  },
  {
   "cell_type": "code",
   "execution_count": 7,
   "id": "40e0132b",
   "metadata": {},
   "outputs": [],
   "source": [
    "#df[\"Country\"].apply(country_to_continent)\n",
    "# Manche Länder können von der Funktion nicht zugeordnet werden\n",
    "# Jene kommen in eine Liste und der Kontinent wird \"manuell\" zugeordnet"
   ]
  },
  {
   "cell_type": "code",
   "execution_count": 8,
   "id": "2a66992f",
   "metadata": {},
   "outputs": [],
   "source": [
    "countries_with_bad_label = ['Antarctica', 'Bonaire, Saint Eustatius and Saba', 'Faeroe Islands', \n",
    "                            'Micronesia (Federated States of)', 'Panama Canal Zone', 'French Equatorial Africa',\n",
    "                            'French West Africa', \"Kosovo\", 'Kuwaiti Oil Fires', 'Leeward Islands',\n",
    "                            'Occupied Palestinian Territory', 'Pacific Islands (Palau)','Ryukyu Islands' ,\n",
    "                            'Saint Helena', 'Sint Maarten (Dutch part)', 'St. Kitts-Nevis-Anguilla', 'Timor-Leste',\n",
    "                            'Wallis and Futuna Islands','International Transport', 'Global']"
   ]
  },
  {
   "cell_type": "code",
   "execution_count": 9,
   "id": "92fef5db",
   "metadata": {},
   "outputs": [],
   "source": [
    "def country_to_continent2(country_name):\n",
    "    if country_name in countries_with_bad_label:\n",
    "        if country_name in ['Antarctica']:\n",
    "            return 'Antarctica'\n",
    "        elif country_name in ['Bonaire, Saint Eustatius and Saba', 'Panama Canal Zone', 'Leeward Islands']:\n",
    "            return 'South America'\n",
    "        elif country_name in ['Sint Maarten (Dutch part)', 'St. Kitts-Nevis-Anguilla']:\n",
    "            return 'North America'\n",
    "        elif country_name in ['Faeroe Islands',\"Kosovo\"]:\n",
    "            return 'Europe'\n",
    "        elif country_name in ['French Equatorial Africa', 'French West Africa', 'Saint Helena']:\n",
    "            return 'Africa'\n",
    "        elif country_name in ['Micronesia (Federated States of)', 'Pacific Islands (Palau)', 'Wallis and Futuna Islands']:\n",
    "            return 'Oceania'\n",
    "        elif country_name in ['Kuwaiti Oil Fires', 'Occupied Palestinian Territory', 'Ryukyu Islands', 'Timor-Leste']:\n",
    "            return 'Asia'\n",
    "        else:\n",
    "            return None #International Transport and the Global measure are excluded\n",
    "    else:\n",
    "        country_alpha2 = pc.country_name_to_country_alpha2(country_name)\n",
    "        country_continent_code = pc.country_alpha2_to_continent_code(country_alpha2)\n",
    "        country_continent_name = pc.convert_continent_code_to_continent_name(country_continent_code)\n",
    "        return country_continent_name"
   ]
  },
  {
   "cell_type": "code",
   "execution_count": 10,
   "id": "7d817fc4",
   "metadata": {},
   "outputs": [],
   "source": [
    "df[\"Continent\"] = df[\"Country\"].apply(country_to_continent2)"
   ]
  },
  {
   "cell_type": "code",
   "execution_count": 11,
   "id": "2d4da9a3",
   "metadata": {},
   "outputs": [
    {
     "data": {
      "text/plain": [
       "array(['Asia', 'Europe', 'Africa', 'North America', 'Antarctica',\n",
       "       'South America', 'Oceania', None], dtype=object)"
      ]
     },
     "execution_count": 11,
     "metadata": {},
     "output_type": "execute_result"
    }
   ],
   "source": [
    "df[\"Continent\"].unique()"
   ]
  },
  {
   "cell_type": "markdown",
   "id": "da30fa36",
   "metadata": {},
   "source": [
    "### Country-Groups"
   ]
  },
  {
   "cell_type": "markdown",
   "id": "4b80ef08",
   "metadata": {},
   "source": [
    "#### OECD"
   ]
  },
  {
   "cell_type": "code",
   "execution_count": 12,
   "id": "1c3ad220",
   "metadata": {},
   "outputs": [],
   "source": [
    "from countrygroups import OECD"
   ]
  },
  {
   "cell_type": "code",
   "execution_count": 13,
   "id": "07c84392",
   "metadata": {},
   "outputs": [
    {
     "data": {
      "text/plain": [
       "'AUS'"
      ]
     },
     "execution_count": 13,
     "metadata": {},
     "output_type": "execute_result"
    }
   ],
   "source": [
    "OECD[0]"
   ]
  },
  {
   "cell_type": "code",
   "execution_count": 14,
   "id": "0c00c582",
   "metadata": {},
   "outputs": [],
   "source": [
    "def check_OECD(Country_name):\n",
    "    #von den Ländern nicht erkannt werden ist keins in der OECD (selbes gilt für OPEC und G7)\n",
    "    if Country_name in ['Antarctica', 'Bonaire, Saint Eustatius and Saba', 'Faeroe Islands', \n",
    "                   'Micronesia (Federated States of)', 'Panama Canal Zone', 'French Equatorial Africa',\n",
    "                   'French West Africa', \"Kosovo\", 'Kuwaiti Oil Fires', 'Leeward Islands',\n",
    "                   'Occupied Palestinian Territory', 'Pacific Islands (Palau)','Ryukyu Islands' ,\n",
    "                   'Saint Helena', 'Sint Maarten (Dutch part)', 'St. Kitts-Nevis-Anguilla', 'Timor-Leste',\n",
    "                   'Wallis and Futuna Islands']:\n",
    "        return 0\n",
    "    if Country_name in ['International Transport', 'Global']:\n",
    "        return None\n",
    "    elif pc.country_name_to_country_alpha3(Country_name) in OECD:\n",
    "        return 1\n",
    "    else:\n",
    "        return 0"
   ]
  },
  {
   "cell_type": "code",
   "execution_count": 15,
   "id": "be4251ca",
   "metadata": {},
   "outputs": [],
   "source": [
    "df[\"OECD\"] = df[\"Country\"].apply(check_OECD)"
   ]
  },
  {
   "cell_type": "code",
   "execution_count": 16,
   "id": "f054db23",
   "metadata": {},
   "outputs": [
    {
     "data": {
      "text/plain": [
       "13996.866354"
      ]
     },
     "execution_count": 16,
     "metadata": {},
     "output_type": "execute_result"
    }
   ],
   "source": [
    "df[(df[\"OECD\"] == 1) & (df[\"Year\"] == 2006)][\"Total\"].sum()"
   ]
  },
  {
   "cell_type": "code",
   "execution_count": 17,
   "id": "443bf960",
   "metadata": {},
   "outputs": [
    {
     "data": {
      "text/plain": [
       "63088    30593.116788\n",
       "Name: Total, dtype: float64"
      ]
     },
     "execution_count": 17,
     "metadata": {},
     "output_type": "execute_result"
    }
   ],
   "source": [
    "df[(df[\"Country\"] == \"Global\") & (df[\"Year\"] == 2006)][\"Total\"]"
   ]
  },
  {
   "cell_type": "markdown",
   "id": "f04bfcb5",
   "metadata": {},
   "source": [
    "#### OPEC"
   ]
  },
  {
   "cell_type": "code",
   "execution_count": 18,
   "id": "8bffbafe",
   "metadata": {},
   "outputs": [],
   "source": [
    "from countrygroups import OPEC"
   ]
  },
  {
   "cell_type": "code",
   "execution_count": 19,
   "id": "b54af316",
   "metadata": {},
   "outputs": [],
   "source": [
    "def check_OPEC(Country_name):\n",
    "    if Country_name in ['Antarctica', 'Bonaire, Saint Eustatius and Saba', 'Faeroe Islands', \n",
    "                   'Micronesia (Federated States of)', 'Panama Canal Zone', 'French Equatorial Africa',\n",
    "                   'French West Africa', \"Kosovo\", 'Kuwaiti Oil Fires', 'Leeward Islands',\n",
    "                   'Occupied Palestinian Territory', 'Pacific Islands (Palau)','Ryukyu Islands' ,\n",
    "                   'Saint Helena', 'Sint Maarten (Dutch part)', 'St. Kitts-Nevis-Anguilla', 'Timor-Leste',\n",
    "                   'Wallis and Futuna Islands']:\n",
    "        return 0\n",
    "    if Country_name in ['International Transport', 'Global']:\n",
    "        return None\n",
    "    elif pc.country_name_to_country_alpha3(Country_name) in OPEC:\n",
    "        return 1\n",
    "    else:\n",
    "        return 0"
   ]
  },
  {
   "cell_type": "code",
   "execution_count": 20,
   "id": "70d69636",
   "metadata": {},
   "outputs": [],
   "source": [
    "df[\"OPEC\"] = df[\"Country\"].apply(check_OPEC)"
   ]
  },
  {
   "cell_type": "markdown",
   "id": "faae6e1d",
   "metadata": {},
   "source": [
    "#### G7"
   ]
  },
  {
   "cell_type": "code",
   "execution_count": 21,
   "id": "378ace0e",
   "metadata": {},
   "outputs": [],
   "source": [
    "from countrygroups import G7"
   ]
  },
  {
   "cell_type": "code",
   "execution_count": 22,
   "id": "d6ac1e94",
   "metadata": {},
   "outputs": [],
   "source": [
    "def check_G7(Country_name):\n",
    "    if Country_name in ['Antarctica', 'Bonaire, Saint Eustatius and Saba', 'Faeroe Islands', \n",
    "                   'Micronesia (Federated States of)', 'Panama Canal Zone', 'French Equatorial Africa',\n",
    "                   'French West Africa', \"Kosovo\", 'Kuwaiti Oil Fires', 'Leeward Islands',\n",
    "                   'Occupied Palestinian Territory', 'Pacific Islands (Palau)','Ryukyu Islands' ,\n",
    "                   'Saint Helena', 'Sint Maarten (Dutch part)', 'St. Kitts-Nevis-Anguilla', 'Timor-Leste',\n",
    "                   'Wallis and Futuna Islands']:\n",
    "        return 0\n",
    "    if Country_name in ['International Transport', 'Global']:\n",
    "        return None\n",
    "    elif pc.country_name_to_country_alpha3(Country_name) in G7:\n",
    "        return 1\n",
    "    else:\n",
    "        return 0"
   ]
  },
  {
   "cell_type": "code",
   "execution_count": 23,
   "id": "011766c4",
   "metadata": {},
   "outputs": [],
   "source": [
    "df[\"G7\"] = df[\"Country\"].apply(check_G7)"
   ]
  },
  {
   "cell_type": "markdown",
   "id": "6031d1e8",
   "metadata": {},
   "source": [
    "### Decades and Centuries"
   ]
  },
  {
   "cell_type": "markdown",
   "id": "ac460a88",
   "metadata": {},
   "source": [
    "#### Decades"
   ]
  },
  {
   "cell_type": "code",
   "execution_count": 24,
   "id": "12d98665",
   "metadata": {},
   "outputs": [],
   "source": [
    "from math import floor"
   ]
  },
  {
   "cell_type": "code",
   "execution_count": 25,
   "id": "54db5f77",
   "metadata": {},
   "outputs": [],
   "source": [
    "def get_decade(Year):\n",
    "    return (int(floor(Year / 10)) * 10) "
   ]
  },
  {
   "cell_type": "code",
   "execution_count": 26,
   "id": "4fb252fe",
   "metadata": {},
   "outputs": [],
   "source": [
    "df[\"Decade\"] = df[\"Year\"].apply(get_decade)"
   ]
  },
  {
   "cell_type": "code",
   "execution_count": 27,
   "id": "6cc55403",
   "metadata": {},
   "outputs": [
    {
     "data": {
      "text/plain": [
       "array([1750, 1760, 1770, 1780, 1790, 1800, 1810, 1820, 1830, 1840, 1850,\n",
       "       1860, 1870, 1880, 1890, 1900, 1910, 1920, 1930, 1940, 1950, 1960,\n",
       "       1970, 1980, 1990, 2000, 2010, 2020], dtype=int64)"
      ]
     },
     "execution_count": 27,
     "metadata": {},
     "output_type": "execute_result"
    }
   ],
   "source": [
    "df[\"Decade\"].unique()"
   ]
  },
  {
   "cell_type": "markdown",
   "id": "86aa4651",
   "metadata": {},
   "source": [
    "#### Centuries"
   ]
  },
  {
   "cell_type": "code",
   "execution_count": 28,
   "id": "370c16d6",
   "metadata": {},
   "outputs": [],
   "source": [
    "def get_century(Year):\n",
    "    if Year < 2000:\n",
    "        return f\"{int(floor(Year / 100) + 1)}th Century\" \n",
    "    else:\n",
    "        return \"21st Century\""
   ]
  },
  {
   "cell_type": "code",
   "execution_count": 29,
   "id": "d260f450",
   "metadata": {},
   "outputs": [],
   "source": [
    "df[\"Century\"] = df[\"Year\"].apply(get_century)"
   ]
  },
  {
   "cell_type": "code",
   "execution_count": 30,
   "id": "e41d83c7",
   "metadata": {},
   "outputs": [
    {
     "data": {
      "text/plain": [
       "array(['18th Century', '19th Century', '20th Century', '21st Century'],\n",
       "      dtype=object)"
      ]
     },
     "execution_count": 30,
     "metadata": {},
     "output_type": "execute_result"
    }
   ],
   "source": [
    "df[\"Century\"].unique()"
   ]
  },
  {
   "cell_type": "markdown",
   "id": "70903adb",
   "metadata": {},
   "source": [
    "## Exporting the data"
   ]
  },
  {
   "cell_type": "code",
   "execution_count": 31,
   "id": "62f96be3",
   "metadata": {},
   "outputs": [],
   "source": [
    "# Float-format muss angepasst werden, weil SQL die Daten sonst falsch einliest\n",
    "df.to_csv(\"C02EmissionData.csv\", float_format = \"%.6f\") # Wide-format"
   ]
  },
  {
   "cell_type": "markdown",
   "id": "3be66266",
   "metadata": {},
   "source": [
    "## Changing to wide Format Aöpmg"
   ]
  },
  {
   "cell_type": "code",
   "execution_count": 32,
   "id": "22166513",
   "metadata": {},
   "outputs": [
    {
     "data": {
      "text/plain": [
       "Index(['Country', 'ISO 3166-1 alpha-3', 'Year', 'Total', 'Coal', 'Oil', 'Gas',\n",
       "       'Cement', 'Flaring', 'Other', 'Per Capita', 'Continent', 'OECD', 'OPEC',\n",
       "       'G7', 'Decade', 'Century'],\n",
       "      dtype='object')"
      ]
     },
     "execution_count": 32,
     "metadata": {},
     "output_type": "execute_result"
    }
   ],
   "source": [
    "df.columns"
   ]
  },
  {
   "cell_type": "code",
   "execution_count": 33,
   "id": "a5b8084f",
   "metadata": {},
   "outputs": [
    {
     "data": {
      "text/html": [
       "<div>\n",
       "<style scoped>\n",
       "    .dataframe tbody tr th:only-of-type {\n",
       "        vertical-align: middle;\n",
       "    }\n",
       "\n",
       "    .dataframe tbody tr th {\n",
       "        vertical-align: top;\n",
       "    }\n",
       "\n",
       "    .dataframe thead th {\n",
       "        text-align: right;\n",
       "    }\n",
       "</style>\n",
       "<table border=\"1\" class=\"dataframe\">\n",
       "  <thead>\n",
       "    <tr style=\"text-align: right;\">\n",
       "      <th></th>\n",
       "      <th>Country</th>\n",
       "      <th>ISO 3166-1 alpha-3</th>\n",
       "      <th>Year</th>\n",
       "      <th>Continent</th>\n",
       "      <th>Type</th>\n",
       "      <th>Emission</th>\n",
       "    </tr>\n",
       "  </thead>\n",
       "  <tbody>\n",
       "    <tr>\n",
       "      <th>0</th>\n",
       "      <td>Afghanistan</td>\n",
       "      <td>AFG</td>\n",
       "      <td>1750</td>\n",
       "      <td>Asia</td>\n",
       "      <td>Coal</td>\n",
       "      <td>NaN</td>\n",
       "    </tr>\n",
       "    <tr>\n",
       "      <th>1</th>\n",
       "      <td>Afghanistan</td>\n",
       "      <td>AFG</td>\n",
       "      <td>1751</td>\n",
       "      <td>Asia</td>\n",
       "      <td>Coal</td>\n",
       "      <td>NaN</td>\n",
       "    </tr>\n",
       "    <tr>\n",
       "      <th>2</th>\n",
       "      <td>Afghanistan</td>\n",
       "      <td>AFG</td>\n",
       "      <td>1752</td>\n",
       "      <td>Asia</td>\n",
       "      <td>Coal</td>\n",
       "      <td>NaN</td>\n",
       "    </tr>\n",
       "    <tr>\n",
       "      <th>3</th>\n",
       "      <td>Afghanistan</td>\n",
       "      <td>AFG</td>\n",
       "      <td>1753</td>\n",
       "      <td>Asia</td>\n",
       "      <td>Coal</td>\n",
       "      <td>NaN</td>\n",
       "    </tr>\n",
       "    <tr>\n",
       "      <th>4</th>\n",
       "      <td>Afghanistan</td>\n",
       "      <td>AFG</td>\n",
       "      <td>1754</td>\n",
       "      <td>Asia</td>\n",
       "      <td>Coal</td>\n",
       "      <td>NaN</td>\n",
       "    </tr>\n",
       "    <tr>\n",
       "      <th>...</th>\n",
       "      <td>...</td>\n",
       "      <td>...</td>\n",
       "      <td>...</td>\n",
       "      <td>...</td>\n",
       "      <td>...</td>\n",
       "      <td>...</td>\n",
       "    </tr>\n",
       "    <tr>\n",
       "      <th>315515</th>\n",
       "      <td>Global</td>\n",
       "      <td>WLD</td>\n",
       "      <td>2017</td>\n",
       "      <td>None</td>\n",
       "      <td>Flaring</td>\n",
       "      <td>391.992176</td>\n",
       "    </tr>\n",
       "    <tr>\n",
       "      <th>315516</th>\n",
       "      <td>Global</td>\n",
       "      <td>WLD</td>\n",
       "      <td>2018</td>\n",
       "      <td>None</td>\n",
       "      <td>Flaring</td>\n",
       "      <td>412.115746</td>\n",
       "    </tr>\n",
       "    <tr>\n",
       "      <th>315517</th>\n",
       "      <td>Global</td>\n",
       "      <td>WLD</td>\n",
       "      <td>2019</td>\n",
       "      <td>None</td>\n",
       "      <td>Flaring</td>\n",
       "      <td>439.253991</td>\n",
       "    </tr>\n",
       "    <tr>\n",
       "      <th>315518</th>\n",
       "      <td>Global</td>\n",
       "      <td>WLD</td>\n",
       "      <td>2020</td>\n",
       "      <td>None</td>\n",
       "      <td>Flaring</td>\n",
       "      <td>407.583673</td>\n",
       "    </tr>\n",
       "    <tr>\n",
       "      <th>315519</th>\n",
       "      <td>Global</td>\n",
       "      <td>WLD</td>\n",
       "      <td>2021</td>\n",
       "      <td>None</td>\n",
       "      <td>Flaring</td>\n",
       "      <td>416.525563</td>\n",
       "    </tr>\n",
       "  </tbody>\n",
       "</table>\n",
       "<p>315520 rows × 6 columns</p>\n",
       "</div>"
      ],
      "text/plain": [
       "            Country ISO 3166-1 alpha-3  Year Continent     Type    Emission\n",
       "0       Afghanistan                AFG  1750      Asia     Coal         NaN\n",
       "1       Afghanistan                AFG  1751      Asia     Coal         NaN\n",
       "2       Afghanistan                AFG  1752      Asia     Coal         NaN\n",
       "3       Afghanistan                AFG  1753      Asia     Coal         NaN\n",
       "4       Afghanistan                AFG  1754      Asia     Coal         NaN\n",
       "...             ...                ...   ...       ...      ...         ...\n",
       "315515       Global                WLD  2017      None  Flaring  391.992176\n",
       "315516       Global                WLD  2018      None  Flaring  412.115746\n",
       "315517       Global                WLD  2019      None  Flaring  439.253991\n",
       "315518       Global                WLD  2020      None  Flaring  407.583673\n",
       "315519       Global                WLD  2021      None  Flaring  416.525563\n",
       "\n",
       "[315520 rows x 6 columns]"
      ]
     },
     "execution_count": 33,
     "metadata": {},
     "output_type": "execute_result"
    }
   ],
   "source": [
    "df_long = pd.melt(df, id_vars = [\"Country\", 'ISO 3166-1 alpha-3', 'Year','Continent'], value_vars = ['Coal', 'Oil', 'Gas', 'Cement', 'Flaring'], var_name = \"Type\", value_name = \"Emission\")\n",
    "df_long"
   ]
  },
  {
   "cell_type": "code",
   "execution_count": 34,
   "id": "18f38cf3",
   "metadata": {},
   "outputs": [],
   "source": [
    "df_long.to_csv(\"long_format.csv\", float_format = \"%.6f\")"
   ]
  }
 ],
 "metadata": {
  "kernelspec": {
   "display_name": "Python 3 (ipykernel)",
   "language": "python",
   "name": "python3"
  },
  "language_info": {
   "codemirror_mode": {
    "name": "ipython",
    "version": 3
   },
   "file_extension": ".py",
   "mimetype": "text/x-python",
   "name": "python",
   "nbconvert_exporter": "python",
   "pygments_lexer": "ipython3",
   "version": "3.9.13"
  }
 },
 "nbformat": 4,
 "nbformat_minor": 5
}
